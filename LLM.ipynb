{
 "cells": [
  {
   "attachments": {},
   "cell_type": "markdown",
   "metadata": {},
   "source": [
    "**Part 4: Large Language Model**\n"
   ]
  },
  {
   "cell_type": "code",
   "execution_count": null,
   "metadata": {},
   "outputs": [],
   "source": [
    "import time, random, numpy as np, argparse, sys, re, os\n",
    "from types import SimpleNamespace\n",
    "\n",
    "import torch\n",
    "import torch.nn.functional as F\n",
    "from torch.utils.data import Dataset, DataLoader\n",
    "from sklearn.metrics import classification_report, f1_score, recall_score, accuracy_score\n",
    "\n",
    "# change it with respect to the original model\n",
    "from tokenizer import BertTokenizer\n",
    "from bert import BertModel\n",
    "from tqdm import tqdm\n",
    "from classifier import BertSentClassifier"
   ]
  },
  {
   "attachments": {},
   "cell_type": "markdown",
   "metadata": {},
   "source": [
    "***4.1 The fine-tuned minBERT classifier***\n",
    "\n",
    "\n",
    "Instantiate a BertSentClassifier model. Load the state dict from the checkpoint saved from the\n",
    "previous question."
   ]
  },
  {
   "attachments": {},
   "cell_type": "markdown",
   "metadata": {},
   "source": [
    "Load the best model checkpoint from the previous question. and instantiate a BertSentClassifier"
   ]
  },
  {
   "cell_type": "code",
   "execution_count": null,
   "metadata": {},
   "outputs": [],
   "source": [
    "device = torch.device(\n",
    "    'cuda') if torch.cuda.is_available() else torch.device('cpu')\n",
    "filepath = 'flexible-50-5e-06.pt'\n",
    "\n",
    "\n",
    "saved = torch.load(filepath)\n",
    "config = saved['model_config']\n",
    "model = BertSentClassifier(config)\n",
    "model.load_state_dict(saved['model'])\n",
    "model = model.to(device)"
   ]
  },
  {
   "attachments": {},
   "cell_type": "markdown",
   "metadata": {},
   "source": [
    "Specifiy the batch of sentences\n",
    "\n",
    "Very positive: \"This movie was absolutely incredible! The acting was superb, the plot was engaging, and the visuals were breathtaking. I loved every minute of it!\"\n",
    "\n",
    "Less positive: \"The movie was decent overall, but I felt that the pacing was a bit slow in some parts. It could have been better with tighter editing.\"\n",
    "\n",
    "Slightly negative: \"The movie had its moments, but I found some of the characters and dialogue to be a bit cliche. It lacked originality in certain aspects.\"\n",
    "\n",
    "Very negative: \"I was extremely disappointed with this movie. The plot was convoluted, the acting was wooden, and the special effects were lackluster. I would not recommend it.\"\n",
    "\n",
    "Off topic \"The chair in the office is of standard size and design, suitable for everyday use.\""
   ]
  }
 ],
 "metadata": {
  "language_info": {
   "name": "python"
  },
  "orig_nbformat": 4
 },
 "nbformat": 4,
 "nbformat_minor": 2
}
